{
 "cells": [
  {
   "cell_type": "code",
   "execution_count": 11,
   "id": "452febb0-30c1-4063-ba30-e9e648decafc",
   "metadata": {},
   "outputs": [],
   "source": [
    "import numpy as np\n"
   ]
  },
  {
   "cell_type": "code",
   "execution_count": 7,
   "id": "e378b9bf-0a3f-4168-8def-00c6ec041fcc",
   "metadata": {},
   "outputs": [],
   "source": []
  },
  {
   "cell_type": "markdown",
   "id": "60aa8d28-2509-4f2b-af36-8d765c55bb3c",
   "metadata": {},
   "source": [
    "## Task 1"
   ]
  },
  {
   "cell_type": "code",
   "execution_count": 12,
   "id": "72bb30f3-bddc-4b78-93d6-f22fba35d11d",
   "metadata": {},
   "outputs": [],
   "source": [
    "array= np.random.randint(1,20,size=15)"
   ]
  },
  {
   "cell_type": "code",
   "execution_count": 23,
   "id": "1c794db8-7bb6-4e62-b77b-c4f1a708bc9f",
   "metadata": {},
   "outputs": [
    {
     "data": {
      "text/plain": [
       "array([13, 13, 14,  4, 19,  9,  9,  2,  2, 16, 13, 11, 11, 17, 15])"
      ]
     },
     "execution_count": 23,
     "metadata": {},
     "output_type": "execute_result"
    }
   ],
   "source": [
    "a"
   ]
  },
  {
   "cell_type": "code",
   "execution_count": 24,
   "id": "65a9e92f-b683-46b8-8759-deaf084a1b39",
   "metadata": {},
   "outputs": [],
   "source": [
    "standard_dev=np.std(a)"
   ]
  },
  {
   "cell_type": "code",
   "execution_count": 25,
   "id": "9b5a9366-2ffe-4727-ad50-c968f1c3c91d",
   "metadata": {},
   "outputs": [
    {
     "data": {
      "text/plain": [
       "5.035871324805669"
      ]
     },
     "execution_count": 25,
     "metadata": {},
     "output_type": "execute_result"
    }
   ],
   "source": [
    "standard_dev"
   ]
  },
  {
   "cell_type": "markdown",
   "id": "68efcc3b-e1e9-48e0-992f-44ad65b2c26f",
   "metadata": {},
   "source": [
    "## Task 2"
   ]
  },
  {
   "cell_type": "code",
   "execution_count": 20,
   "id": "57550e2e-507e-415a-a09b-8e5298a2120a",
   "metadata": {},
   "outputs": [
    {
     "name": "stdout",
     "output_type": "stream",
     "text": [
      "Random 5x5 Matrix:\n",
      " [[26 98 42  4 30]\n",
      " [21 35 85 97 98]\n",
      " [98 83 10 63 59]\n",
      " [27  9 55 12 57]\n",
      " [67  7 61 86 56]]\n",
      "Minimum values along each row: [ 4 21 10  9  7]\n",
      "Maximum values along each row: [98 98 98 57 86]\n",
      "Minimum values along each column: [21  7 10  4 30]\n",
      "Maximum values along each column: [98 98 85 97 98]\n"
     ]
    }
   ],
   "source": [
    "\n",
    "matrix = np.random.randint(1,100,(5, 5))\n",
    "row_min = np.min(matrix, axis=1)\n",
    "row_max = np.max(matrix, axis=1)\n",
    "\n",
    "\n",
    "column_min = np.min(matrix, axis=0)\n",
    "column_max = np.max(matrix, axis=0)\n",
    "\n",
    "print(\"Random 5x5 Matrix:\\n\", matrix)\n",
    "print(\"Minimum values along each row:\", row_min)\n",
    "print(\"Maximum values along each row:\", row_max)\n",
    "print(\"Minimum values along each column:\", column_min)\n",
    "print(\"Maximum values along each column:\", column_max)\n"
   ]
  },
  {
   "cell_type": "markdown",
   "id": "1e3868e8-bc64-44a2-a876-c67d9898b708",
   "metadata": {},
   "source": [
    "## Task 3"
   ]
  },
  {
   "cell_type": "code",
   "execution_count": 22,
   "id": "dd9a9ac2-cb67-43a0-8193-ffba1b36be35",
   "metadata": {},
   "outputs": [
    {
     "name": "stdout",
     "output_type": "stream",
     "text": [
      "Cosine Similarity: 0.5614727371106946\n"
     ]
    }
   ],
   "source": [
    "import numpy as np\n",
    "\n",
    "def cosine_similarity(vector_a, vector_b):\n",
    "    unit_vector_a = vector_a / np.linalg.norm(vector_a)\n",
    "    unit_vector_b = vector_b / np.linalg.norm(vector_b)\n",
    "    similarity = np.dot(unit_vector_a, unit_vector_b)\n",
    "    return similarity\n",
    "\n",
    "vector_a = np.array([1, 2, 3])\n",
    "vector_b = np.array([4, 5, 6])\n",
    "\n",
    "similarity = np.cos(cosine_similarity(vector_a, vector_b))\n",
    "print(\"Cosine Similarity:\", similarity)\n"
   ]
  },
  {
   "cell_type": "code",
   "execution_count": null,
   "id": "20a93f08-fa90-45c5-a5c8-6bb8611d8115",
   "metadata": {},
   "outputs": [],
   "source": []
  }
 ],
 "metadata": {
  "kernelspec": {
   "display_name": "Python 3 (ipykernel)",
   "language": "python",
   "name": "python3"
  },
  "language_info": {
   "codemirror_mode": {
    "name": "ipython",
    "version": 3
   },
   "file_extension": ".py",
   "mimetype": "text/x-python",
   "name": "python",
   "nbconvert_exporter": "python",
   "pygments_lexer": "ipython3",
   "version": "3.11.7"
  }
 },
 "nbformat": 4,
 "nbformat_minor": 5
}
